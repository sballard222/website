{
 "cells": [
  {
   "cell_type": "markdown",
   "metadata": {},
   "source": [
    "Importing data from LOBO-Buoy server\n",
    "====================================\n",
    "\n",
    "---\n",
    "\n",
    "Objectives:\n",
    "-----------\n",
    "\n",
    "    * Download data from LOBO server\n",
    "    * (if needed) transform data into a format suitable for plotting\n",
    "    * Plot time vs variable (e.g. temperature)\n",
    "    * Turn your code into function for future (easier) use\n",
    "    * Add docstrings and other relevant comments and documentation\n",
    "\n",
    "Other relevant information:\n",
    "---------------------------\n",
    "\n",
    "* [LOBO's main page](http://lobo.satlantic.com/)\n",
    "* [\"LOBOviz\" data download portal](http://lobo.satlantic.com/loboviz/)\n",
    "\n",
    "\n",
    "time to work...\n",
    "\n",
    "--------------------\n"
   ]
  },
  {
   "cell_type": "markdown",
   "metadata": {},
   "source": [
    "Getting the data\n",
    "----------------\n",
    "\n",
    "* From the [\"LOBOviz\" webpage](http://lobo.satlantic.com/loboviz/), you can select a variable (e.g. temperature) and a date range sometime during the summer.\n",
    "* Click \"Plot data\"\n",
    "* Right-click on the button \"Download tab separtaed values\" and select \"Copy link address\"\n",
    "* In python (i.e. Notebook or Spyder), \"paste\" the URL address in a variable\n"
   ]
  },
  {
   "cell_type": "code",
   "execution_count": 4,
   "metadata": {},
   "outputs": [],
   "source": [
    "# URL quering the LOBO server for data (in this case, temperature data)\n",
    "URL = 'http://lobo.satlantic.com/cgi-data/nph-data.cgi?min_date=20100602&max_date=20100630&y=fluorescence'\n"
   ]
  },
  {
   "cell_type": "markdown",
   "metadata": {},
   "source": [
    "NOTE: You can see in the URL that the dates are included (i.e. min_date=20090610 and max_date=20090706) as well as the variable to query (i.e. y=temperature).\n",
    "\n",
    "Now lets use \"pandas\" to actually dowload the data..."
   ]
  },
  {
   "cell_type": "code",
   "execution_count": 5,
   "metadata": {},
   "outputs": [],
   "source": [
    "import pandas as pd\n",
    "\n",
    "# Import data from LOBO server\n",
    "data = pd.read_csv(URL,sep='\\t')"
   ]
  },
  {
   "cell_type": "markdown",
   "metadata": {},
   "source": [
    "---------------------------------"
   ]
  },
  {
   "cell_type": "markdown",
   "metadata": {},
   "source": [
    "Exploring the data\n",
    "------------------\n",
    "\n",
    "Lets see what is in \"data\"..."
   ]
  },
  {
   "cell_type": "code",
   "execution_count": 7,
   "metadata": {},
   "outputs": [
    {
     "data": {
      "text/html": [
       "<div>\n",
       "<style scoped>\n",
       "    .dataframe tbody tr th:only-of-type {\n",
       "        vertical-align: middle;\n",
       "    }\n",
       "\n",
       "    .dataframe tbody tr th {\n",
       "        vertical-align: top;\n",
       "    }\n",
       "\n",
       "    .dataframe thead th {\n",
       "        text-align: right;\n",
       "    }\n",
       "</style>\n",
       "<table border=\"1\" class=\"dataframe\">\n",
       "  <thead>\n",
       "    <tr style=\"text-align: right;\">\n",
       "      <th></th>\n",
       "      <th>date [AST]</th>\n",
       "      <th>fluorescence [micro g/l]</th>\n",
       "    </tr>\n",
       "  </thead>\n",
       "  <tbody>\n",
       "    <tr>\n",
       "      <th>0</th>\n",
       "      <td>2010-06-02 00:00:00</td>\n",
       "      <td>1.74</td>\n",
       "    </tr>\n",
       "    <tr>\n",
       "      <th>1</th>\n",
       "      <td>2010-06-02 01:00:00</td>\n",
       "      <td>1.27</td>\n",
       "    </tr>\n",
       "    <tr>\n",
       "      <th>2</th>\n",
       "      <td>2010-06-02 02:00:00</td>\n",
       "      <td>1.12</td>\n",
       "    </tr>\n",
       "    <tr>\n",
       "      <th>3</th>\n",
       "      <td>2010-06-02 03:00:00</td>\n",
       "      <td>1.42</td>\n",
       "    </tr>\n",
       "    <tr>\n",
       "      <th>4</th>\n",
       "      <td>2010-06-02 04:00:00</td>\n",
       "      <td>1.49</td>\n",
       "    </tr>\n",
       "    <tr>\n",
       "      <th>5</th>\n",
       "      <td>2010-06-02 05:00:00</td>\n",
       "      <td>1.25</td>\n",
       "    </tr>\n",
       "    <tr>\n",
       "      <th>6</th>\n",
       "      <td>2010-06-02 06:00:00</td>\n",
       "      <td>1.33</td>\n",
       "    </tr>\n",
       "    <tr>\n",
       "      <th>7</th>\n",
       "      <td>2010-06-02 07:00:00</td>\n",
       "      <td>1.01</td>\n",
       "    </tr>\n",
       "    <tr>\n",
       "      <th>8</th>\n",
       "      <td>2010-06-02 08:00:00</td>\n",
       "      <td>0.98</td>\n",
       "    </tr>\n",
       "    <tr>\n",
       "      <th>9</th>\n",
       "      <td>2010-06-02 09:00:00</td>\n",
       "      <td>0.83</td>\n",
       "    </tr>\n",
       "  </tbody>\n",
       "</table>\n",
       "</div>"
      ],
      "text/plain": [
       "            date [AST]  fluorescence [micro g/l]\n",
       "0  2010-06-02 00:00:00                      1.74\n",
       "1  2010-06-02 01:00:00                      1.27\n",
       "2  2010-06-02 02:00:00                      1.12\n",
       "3  2010-06-02 03:00:00                      1.42\n",
       "4  2010-06-02 04:00:00                      1.49\n",
       "5  2010-06-02 05:00:00                      1.25\n",
       "6  2010-06-02 06:00:00                      1.33\n",
       "7  2010-06-02 07:00:00                      1.01\n",
       "8  2010-06-02 08:00:00                      0.98\n",
       "9  2010-06-02 09:00:00                      0.83"
      ]
     },
     "execution_count": 7,
     "metadata": {},
     "output_type": "execute_result"
    }
   ],
   "source": [
    "data[:10]"
   ]
  },
  {
   "cell_type": "markdown",
   "metadata": {},
   "source": [
    "Now lets disect \"data\" a bit... lets find the title (or \"keys\") of its collumns..."
   ]
  },
  {
   "cell_type": "code",
   "execution_count": 8,
   "metadata": {},
   "outputs": [
    {
     "data": {
      "text/plain": [
       "Index(['date [AST]', 'fluorescence [micro g/l]'], dtype='object')"
      ]
     },
     "execution_count": 8,
     "metadata": {},
     "output_type": "execute_result"
    }
   ],
   "source": [
    "data.keys()"
   ]
  },
  {
   "cell_type": "markdown",
   "metadata": {},
   "source": [
    "Lets see what is in the temperature column..."
   ]
  },
  {
   "cell_type": "markdown",
   "metadata": {},
   "source": [
    "...and in the \"date\" column..."
   ]
  },
  {
   "cell_type": "code",
   "execution_count": 19,
   "metadata": {},
   "outputs": [
    {
     "data": {
      "text/plain": [
       "0    7.88\n",
       "1    8.46\n",
       "2    8.54\n",
       "3    8.31\n",
       "4    8.33\n",
       "5    8.31\n",
       "6    8.26\n",
       "7    8.25\n",
       "8    8.11\n",
       "9    8.38\n",
       "Name: temperature [C], dtype: float64"
      ]
     },
     "execution_count": 19,
     "metadata": {},
     "output_type": "execute_result"
    }
   ],
   "source": [
    "data['temperature [C]'][:10]"
   ]
  },
  {
   "cell_type": "code",
   "execution_count": 20,
   "metadata": {},
   "outputs": [
    {
     "data": {
      "text/plain": [
       "0    2010-06-02 00:00:00\n",
       "1    2010-06-02 01:00:00\n",
       "2    2010-06-02 02:00:00\n",
       "3    2010-06-02 03:00:00\n",
       "4    2010-06-02 04:00:00\n",
       "5    2010-06-02 05:00:00\n",
       "6    2010-06-02 06:00:00\n",
       "7    2010-06-02 07:00:00\n",
       "8    2010-06-02 08:00:00\n",
       "9    2010-06-02 09:00:00\n",
       "Name: date [AST], dtype: object"
      ]
     },
     "execution_count": 20,
     "metadata": {},
     "output_type": "execute_result"
    }
   ],
   "source": [
    "data['date [AST]'][:10]"
   ]
  },
  {
   "cell_type": "markdown",
   "metadata": {},
   "source": [
    "...and the indices"
   ]
  },
  {
   "cell_type": "code",
   "execution_count": 21,
   "metadata": {},
   "outputs": [
    {
     "data": {
      "text/plain": [
       "RangeIndex(start=0, stop=696, step=1)"
      ]
     },
     "execution_count": 21,
     "metadata": {},
     "output_type": "execute_result"
    }
   ],
   "source": [
    "data.index"
   ]
  },
  {
   "cell_type": "markdown",
   "metadata": {},
   "source": [
    "----------------------"
   ]
  },
  {
   "cell_type": "markdown",
   "metadata": {},
   "source": [
    "Plotting\n",
    "--------\n",
    "\n",
    "Ok! Now lets start with a quick plot...\n",
    "\n",
    "...but first a quick trick. You need to execute `%matplotlib inline` so that your plots appear in the Notebook."
   ]
  },
  {
   "cell_type": "code",
   "execution_count": 22,
   "metadata": {},
   "outputs": [],
   "source": [
    "%matplotlib inline"
   ]
  },
  {
   "cell_type": "markdown",
   "metadata": {},
   "source": [
    "Ok, now lets do the plot..."
   ]
  },
  {
   "cell_type": "code",
   "execution_count": 25,
   "metadata": {},
   "outputs": [
    {
     "data": {
      "image/png": "[encoded data removed]",
      "text/plain": [
       "<Figure size 432x288 with 1 Axes>"
      ]
     },
     "metadata": {
      "needs_background": "light"
     },
     "output_type": "display_data"
    }
   ],
   "source": [
    "#import matplotlib.pyplot as plt\n",
    "\n",
    "# ...just a quick plot\n",
    "data.plot();"
   ]
  },
  {
   "cell_type": "markdown",
   "metadata": {},
   "source": [
    "If we change the indices from \"numbers\" to \"DatetimeIndex\", then we can plot nicer!"
   ]
  },
  {
   "cell_type": "code",
   "execution_count": 24,
   "metadata": {},
   "outputs": [],
   "source": [
    "# Change indices to DatetimeIndex objects\n",
    "data.index = pd.DatetimeIndex(data['date [AST]'])\n",
    "\n",
    "# Now that we made \"date indices\" we can drop the \"date\" column\n",
    "data = data.drop('date [AST]',axis=1)"
   ]
  },
  {
   "cell_type": "markdown",
   "metadata": {},
   "source": [
    "Lets see what happened...."
   ]
  },
  {
   "cell_type": "code",
   "execution_count": 58,
   "metadata": {},
   "outputs": [
    {
     "data": {
      "text/plain": [
       "DatetimeIndex(['2009-06-10 00:00:00', '2009-06-10 01:00:00',\n",
       "               '2009-06-10 02:00:00', '2009-06-10 03:00:00',\n",
       "               '2009-06-10 04:00:00', '2009-06-10 05:00:00',\n",
       "               '2009-06-10 06:00:00', '2009-06-10 07:00:00',\n",
       "               '2009-06-10 08:00:00', '2009-06-10 09:00:00',\n",
       "               ...\n",
       "               '2009-07-06 14:00:00', '2009-07-06 15:00:00',\n",
       "               '2009-07-06 16:00:00', '2009-07-06 17:00:00',\n",
       "               '2009-07-06 18:00:00', '2009-07-06 19:00:00',\n",
       "               '2009-07-06 20:00:00', '2009-07-06 21:00:00',\n",
       "               '2009-07-06 22:00:00', '2009-07-06 23:00:00'],\n",
       "              dtype='datetime64[ns]', length=647, freq=None)"
      ]
     },
     "execution_count": 58,
     "metadata": {},
     "output_type": "execute_result"
    }
   ],
   "source": [
    "data.index"
   ]
  },
  {
   "cell_type": "markdown",
   "metadata": {},
   "source": [
    "Lets plot again..."
   ]
  },
  {
   "cell_type": "code",
   "execution_count": 26,
   "metadata": {},
   "outputs": [
    {
     "data": {
      "text/plain": [
       "<matplotlib.axes._subplots.AxesSubplot at 0x2d468b7c748>"
      ]
     },
     "execution_count": 26,
     "metadata": {},
     "output_type": "execute_result"
    },
    {
     "data": {
      "image/png": "[encoded data removed]",
      "text/plain": [
       "<Figure size 432x288 with 1 Axes>"
      ]
     },
     "metadata": {
      "needs_background": "light"
     },
     "output_type": "display_data"
    }
   ],
   "source": [
    "data.plot()"
   ]
  },
  {
   "cell_type": "markdown",
   "metadata": {},
   "source": [
    "Lets make it prettier!"
   ]
  },
  {
   "cell_type": "markdown",
   "metadata": {},
   "source": [
    "# ...a bit fancier plot\n",
    "data.plot(style='-r',legend=False)\n",
    "plt.title('Temperature from LOBO (Halifax, Canada)')\n",
    "plt.ylabel('Temperature (oC)')\n",
    "plt.xlabel('Dates')"
   ]
  },
  {
   "cell_type": "markdown",
   "metadata": {},
   "source": [
    "Another way to plot (without pandas)"
   ]
  },
  {
   "cell_type": "code",
   "execution_count": 27,
   "metadata": {},
   "outputs": [
    {
     "ename": "NameError",
     "evalue": "name 'plt' is not defined",
     "output_type": "error",
     "traceback": [
      "\u001b[1;31m---------------------------------------------------------------------------\u001b[0m",
      "\u001b[1;31mNameError\u001b[0m                                 Traceback (most recent call last)",
      "\u001b[1;32m<ipython-input-27-12eec4fe4b55>\u001b[0m in \u001b[0;36m<module>\u001b[1;34m\u001b[0m\n\u001b[1;32m----> 1\u001b[1;33m \u001b[0mfig\u001b[0m\u001b[1;33m,\u001b[0m \u001b[0max\u001b[0m \u001b[1;33m=\u001b[0m\u001b[0mplt\u001b[0m\u001b[1;33m.\u001b[0m\u001b[0msubplots\u001b[0m\u001b[1;33m(\u001b[0m\u001b[1;36m1\u001b[0m\u001b[1;33m)\u001b[0m\u001b[1;33m\u001b[0m\u001b[1;33m\u001b[0m\u001b[0m\n\u001b[0m\u001b[0;32m      2\u001b[0m \u001b[0max\u001b[0m\u001b[1;33m.\u001b[0m\u001b[0mplot_date\u001b[0m\u001b[1;33m(\u001b[0m\u001b[0mdata\u001b[0m\u001b[1;33m.\u001b[0m\u001b[0mindex\u001b[0m\u001b[1;33m,\u001b[0m \u001b[0mdata\u001b[0m\u001b[1;33m[\u001b[0m\u001b[1;34m'temperature [C]'\u001b[0m\u001b[1;33m]\u001b[0m\u001b[1;33m,\u001b[0m \u001b[1;34m'r-'\u001b[0m\u001b[1;33m)\u001b[0m\u001b[1;33m\u001b[0m\u001b[1;33m\u001b[0m\u001b[0m\n\u001b[0;32m      3\u001b[0m \u001b[0mfig\u001b[0m\u001b[1;33m.\u001b[0m\u001b[0mautofmt_xdate\u001b[0m\u001b[1;33m(\u001b[0m\u001b[0mrotation\u001b[0m\u001b[1;33m=\u001b[0m\u001b[1;36m50\u001b[0m\u001b[1;33m)\u001b[0m\u001b[1;33m\u001b[0m\u001b[1;33m\u001b[0m\u001b[0m\n\u001b[0;32m      4\u001b[0m \u001b[0mplt\u001b[0m\u001b[1;33m.\u001b[0m\u001b[0mtitle\u001b[0m\u001b[1;33m(\u001b[0m\u001b[1;34m'Temperature from LOBO (Halifax, Canada)'\u001b[0m\u001b[1;33m)\u001b[0m\u001b[1;33m\u001b[0m\u001b[1;33m\u001b[0m\u001b[0m\n\u001b[0;32m      5\u001b[0m \u001b[0mplt\u001b[0m\u001b[1;33m.\u001b[0m\u001b[0mylabel\u001b[0m\u001b[1;33m(\u001b[0m\u001b[1;34m'Temperature (oC)'\u001b[0m\u001b[1;33m)\u001b[0m\u001b[1;33m\u001b[0m\u001b[1;33m\u001b[0m\u001b[0m\n",
      "\u001b[1;31mNameError\u001b[0m: name 'plt' is not defined"
     ]
    }
   ],
   "source": [
    "\n",
    "fig, ax =plt.subplots(1)\n",
    "ax.plot_date(data.index, data['temperature [C]'], 'r-')\n",
    "fig.autofmt_xdate(rotation=50)\n",
    "plt.title('Temperature from LOBO (Halifax, Canada)')\n",
    "plt.ylabel('Temperature (oC)')\n",
    "plt.xlabel('Dates')\n",
    "plt.show()"
   ]
  },
  {
   "cell_type": "markdown",
   "metadata": {},
   "source": [
    "------------------------\n",
    "\n",
    "Putting it all together\n",
    "-----------------------"
   ]
  },
  {
   "cell_type": "markdown",
   "metadata": {},
   "source": [
    "Ok. NOw it is the time to put it all together... Note that I replaced the 'min_date' and 'max_date' arguments in the url for a couple of variables, so that we can easily change dates."
   ]
  },
  {
   "cell_type": "code",
   "execution_count": 28,
   "metadata": {},
   "outputs": [
    {
     "data": {
      "text/plain": [
       "Text(0.5, 0, 'Dates')"
      ]
     },
     "execution_count": 28,
     "metadata": {},
     "output_type": "execute_result"
    },
    {
     "data": {
      "image/png": "[encoded data removed]",
      "text/plain": [
       "<Figure size 432x288 with 1 Axes>"
      ]
     },
     "metadata": {
      "needs_background": "light"
     },
     "output_type": "display_data"
    }
   ],
   "source": [
    "import pandas as pd\n",
    "import matplotlib.pyplot as plt\n",
    "\n",
    "# Start and End dates\n",
    "mindate = '20090610'\n",
    "maxdate = '20090706'\n",
    "\n",
    "# URL quering the LOBO server for data (in this case, temperature data)\n",
    "URL = 'http://lobo.satlantic.com/cgi-data/nph-data.cgi?min_date='+mindate+'&max_date='+maxdate+'&y=temperature'\n",
    "\n",
    "# Import data from LOBO server\n",
    "data = pd.read_csv(URL,sep='\\t')\n",
    "\n",
    "# Change indices to DatetimeIndex objects\n",
    "data.index = pd.DatetimeIndex(data['date [AST]'])\n",
    "\n",
    "# Now that we made \"date indices\" we can drop the \"date\" column\n",
    "data = data.drop('date [AST]',axis=1)\n",
    "\n",
    "# ...a bit fancier plot\n",
    "data.plot(style='-r',legend=False)\n",
    "plt.title('Temperature from LOBO (Halifax, Canada)')\n",
    "plt.ylabel('Temperature (oC)')\n",
    "plt.xlabel('Dates')"
   ]
  },
  {
   "cell_type": "markdown",
   "metadata": {},
   "source": [
    "------------------------------"
   ]
  },
  {
   "cell_type": "markdown",
   "metadata": {},
   "source": [
    "# Making a function"
   ]
  },
  {
   "cell_type": "markdown",
   "metadata": {},
   "source": [
    "Now it is time to make our code into a function, note that:\n",
    "\n",
    "* At the begining, add: def NameOfFunction(arguments):\n",
    "* At the end, add: return Output\n",
    "* Indent contents\n",
    "* NOTE that we inserted `mindate` and `maxdate` in the `URL` string!!! "
   ]
  },
  {
   "cell_type": "code",
   "execution_count": 62,
   "metadata": {},
   "outputs": [],
   "source": [
    "def load_temp(mindate,maxdate): \n",
    "    import pandas as pd\n",
    "    import matplotlib.pyplot as plt\n",
    "\n",
    "    # URL quering the LOBO server for data (in this case, temperature data)\n",
    "    URL = 'http://lobo.satlantic.com/cgi-data/nph-data.cgi?min_date='+mindate+'&max_date='+maxdate+'&y=fluoresecense'\n",
    "\n",
    "    # Import data from LOBO server\n",
    "    data = pd.read_csv(URL,sep='\\t')\n",
    "\n",
    "    # Change indices to DatetimeIndex objects\n",
    "    data.index = pd.DatetimeIndex(data['date [AST]'])\n",
    "    \n",
    "    # Now that we made \"date indices\" we can drop the \"date\" column\n",
    "    data = data.drop('date [AST]',axis=1)\n",
    "\n",
    "    # ...a bit fancier plot\n",
    "    data.plot(style='-r',legend=False)\n",
    "    plt.title('Temperature from LOBO (Halifax, Canada)')\n",
    "    plt.ylabel('Temperature (oC)')\n",
    "    plt.xlabel('Dates')\n",
    "    plt.show()\n",
    "    return data"
   ]
  },
  {
   "cell_type": "markdown",
   "metadata": {},
   "source": [
    "Lets take our new function for a spin..."
   ]
  },
  {
   "cell_type": "code",
   "execution_count": 65,
   "metadata": {},
   "outputs": [
    {
     "data": {
      "image/png": "[encoded data removed]",
      "text/plain": [
       "<matplotlib.figure.Figure at 0xb1bef60>"
      ]
     },
     "metadata": {},
     "output_type": "display_data"
    },
    {
     "name": "stdout",
     "output_type": "stream",
     "text": [
      "                     temperature [C]\n",
      "2009-06-16 00:00:00            11.61\n",
      "2009-06-16 01:00:00            11.59\n",
      "2009-06-16 02:00:00            11.55\n",
      "2009-06-16 03:00:00            11.30\n",
      "2009-06-16 04:00:00            11.55\n",
      "2009-06-16 05:00:00            11.57\n",
      "2009-06-16 06:00:00            11.25\n",
      "2009-06-16 07:00:00            11.63\n",
      "2009-06-16 08:00:00            12.10\n",
      "2009-06-16 09:00:00            12.06\n"
     ]
    }
   ],
   "source": [
    "mydata = load_temp('20090616','20101017')\n",
    "\n",
    "print mydata[:10]"
   ]
  },
  {
   "cell_type": "markdown",
   "metadata": {},
   "source": [
    "Some final touch-ups, like Documentation and a karg to prevent plotting... "
   ]
  },
  {
   "cell_type": "code",
   "execution_count": 1,
   "metadata": {},
   "outputs": [],
   "source": [
    "def load_temp(mindate,maxdate,plot=True):\n",
    "    '''\n",
    "    Downloads data from LOBO and makes a plot.\n",
    "    \n",
    "    Arguments:\n",
    "        mindate (string): Start date\n",
    "        maxdate (string): End date\n",
    "        plot (boolean): If True, it produces a plot (default=True)\n",
    "    \n",
    "    Returns: \n",
    "        DataFrame and a plot (if `plot` argument = True)\n",
    "    '''\n",
    "    import pandas as pd\n",
    "    import matplotlib.pyplot as plt\n",
    "\n",
    "    # URL quering the LOBO server for data (in this case, temperature data)\n",
    "    URL = 'http://lobo.satlantic.com/cgi-data/nph-data.cgi?min_date='+mindate+'&max_date='+maxdate+'&y=temperature'\n",
    "\n",
    "    # Import data from LOBO server\n",
    "    data = pd.read_csv(URL,sep='\\t')\n",
    "\n",
    "    # Change indices to DatetimeIndex objects\n",
    "    data.index = pd.DatetimeIndex(data['date [AST]'])\n",
    "\n",
    "    # Now that we made \"date indices\" we can drop the \"date\" column\n",
    "    data = data.drop('date [AST]',axis=1)\n",
    "    \n",
    "    if plot==True:\n",
    "        # ...a bit fancier plot\n",
    "        data.plot(style='-r',legend=False)\n",
    "        plt.title('Temperature from LOBO (Halifax, Canada)')\n",
    "        plt.ylabel('Temperature (oC)')\n",
    "        plt.xlabel('Dates')\n",
    "        plt.show()\n",
    "        \n",
    "    return data"
   ]
  },
  {
   "cell_type": "markdown",
   "metadata": {},
   "source": [
    "Lets see if we can see the documentation...\n"
   ]
  },
  {
   "cell_type": "code",
   "execution_count": 2,
   "metadata": {},
   "outputs": [],
   "source": [
    "load_temp?"
   ]
  },
  {
   "cell_type": "markdown",
   "metadata": {},
   "source": [
    "One last spin without making a plot:"
   ]
  },
  {
   "cell_type": "code",
   "execution_count": 3,
   "metadata": {},
   "outputs": [
    {
     "ename": "SyntaxError",
     "evalue": "Missing parentheses in call to 'print'. Did you mean print(mydata[:10])? (<ipython-input-3-49e2f577b1f8>, line 3)",
     "output_type": "error",
     "traceback": [
      "\u001b[1;36m  File \u001b[1;32m\"<ipython-input-3-49e2f577b1f8>\"\u001b[1;36m, line \u001b[1;32m3\u001b[0m\n\u001b[1;33m    print mydata[:10]\u001b[0m\n\u001b[1;37m               ^\u001b[0m\n\u001b[1;31mSyntaxError\u001b[0m\u001b[1;31m:\u001b[0m Missing parentheses in call to 'print'. Did you mean print(mydata[:10])?\n"
     ]
    }
   ],
   "source": [
    "mydata = load_temp('20090610','20090706',plot=False)\n",
    "\n",
    "print mydata[:10]"
   ]
  },
  {
   "cell_type": "markdown",
   "metadata": {},
   "source": [
    "Last thing... create a new file (in this directory) called lobo_YourName.py .... copy-paste your new function, so we can use it later."
   ]
  }
 ],
 "metadata": {
  "anaconda-cloud": {},
  "kernelspec": {
   "display_name": "Python 3",
   "language": "python",
   "name": "python3"
  },
  "language_info": {
   "codemirror_mode": {
    "name": "ipython",
    "version": 3
   },
   "file_extension": ".py",
   "mimetype": "text/x-python",
   "name": "python",
   "nbconvert_exporter": "python",
   "pygments_lexer": "ipython3",
   "version": "3.7.1"
  }
 },
 "nbformat": 4,
 "nbformat_minor": 1
}
